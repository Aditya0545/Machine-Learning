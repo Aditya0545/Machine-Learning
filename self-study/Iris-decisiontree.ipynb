{
 "cells": [
  {
   "cell_type": "markdown",
   "id": "1a979ceb-fe9b-42ba-8dbb-4b7c27e81cfe",
   "metadata": {},
   "source": [
    "# Importing Essential Libraries "
   ]
  },
  {
   "cell_type": "code",
   "execution_count": null,
   "id": "f1650cab-bc0e-4e57-a502-78a0f550aced",
   "metadata": {},
   "outputs": [],
   "source": [
    "import pandas as pd\n",
    "import sklearn as sns\n",
    "import matplotlib.pyplot as plt\n",
    "import numpy as np\n",
    "import "
   ]
  },
  {
   "cell_type": "code",
   "execution_count": null,
   "id": "5533481d-3c0d-48d7-9a2c-51a0fb13705c",
   "metadata": {},
   "outputs": [],
   "source": []
  }
 ],
 "metadata": {
  "kernelspec": {
   "display_name": "Python [conda env:base] *",
   "language": "python",
   "name": "conda-base-py"
  },
  "language_info": {
   "codemirror_mode": {
    "name": "ipython",
    "version": 3
   },
   "file_extension": ".py",
   "mimetype": "text/x-python",
   "name": "python",
   "nbconvert_exporter": "python",
   "pygments_lexer": "ipython3",
   "version": "3.12.7"
  }
 },
 "nbformat": 4,
 "nbformat_minor": 5
}
